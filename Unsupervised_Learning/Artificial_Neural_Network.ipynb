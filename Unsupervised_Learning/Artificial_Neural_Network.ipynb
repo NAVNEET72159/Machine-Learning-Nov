{
 "cells": [
  {
   "cell_type": "code",
   "execution_count": null,
   "metadata": {},
   "outputs": [],
   "source": [
    "import numpy as np\n",
    "from tensorflow.keras.models import Sequential #model type\n",
    "from tensorflow.keras.layers import Dense, Dropout #dense layer, drop layer\n",
    "from tensorflow.keras.activations import relu, sigmoid #Activation Function \n",
    "from tensorflow.keras.optimizers import SGD #Stochastic Gradient Decendent\n",
    "from tensorflow.keras.losses import binary_crossentropy #const function"
   ]
  }
 ],
 "metadata": {
  "language_info": {
   "name": "python"
  },
  "orig_nbformat": 4
 },
 "nbformat": 4,
 "nbformat_minor": 2
}
